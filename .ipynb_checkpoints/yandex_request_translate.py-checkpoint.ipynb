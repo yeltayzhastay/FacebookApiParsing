{
 "cells": [
  {
   "cell_type": "code",
   "execution_count": 10,
   "metadata": {},
   "outputs": [],
   "source": [
    "import itertools\n",
    "import json\n",
    "import re\n",
    "import requests\n",
    "from bs4 import BeautifulSoup"
   ]
  },
  {
   "cell_type": "code",
   "execution_count": 31,
   "metadata": {},
   "outputs": [],
   "source": [
    "response = requests.get('https://translate.yandex.com/?lang=kk-ru&text=%D2%9A%D0%B0%D0%B7%D0%B0%D2%9B%D1%81%D1%82%D0%B0%D0%BD%20%D1%80%D0%B5%D1%81%D0%BF%D1%83%D0%B1%D0%BB%D0%B8%D0%BA%D0%B0%D1%81%D1%8B%D0%BD%D1%8B%D2%A3%20%D0%BC%D0%B5%D0%BC%D0%BB%D0%B5%D0%BA%D0%B5%D1%82%D1%82%D1%96%D0%BA%20%D2%9B%D1%8B%D0%B7%D0%BC%D0%B5%D1%82%20%D0%BA%D3%A9%D1%80%D1%81%D0%B5%D1%82%D1%83%20%D0%B6%D3%99%D0%BD%D0%B5%20%D0%B6%D3%A9%D0%BD%D0%B4%D0%B5%D1%83%20%D0%B1%D0%BE%D0%B9%D1%8B%D0%BD%D1%88%D0%B0%20%D2%9B%D1%8B%D0%B7%D0%BC%D0%B5%D1%82%D1%82%D0%B5%D1%80%20%D0%BA%D3%A9%D1%80%D1%81%D0%B5%D1%82%D1%83%20%D0%BC%D3%99%D1%81%D0%B5%D0%BB%D0%B5%D0%BB%D0%B5%D1%80%D1%96%20%D0%B1%D0%BE%D0%B9%D1%8B%D0%BD%D1%88%D0%B0%20%D3%A9%D0%B7%D0%B3%D0%B5%D1%80%D1%96%D1%81%D1%82%D0%B5%D1%80%20%D0%BC%D0%B5%D0%BD%20%D1%82%D0%BE%D0%BB%D1%8B%D2%9B%D1%82%D1%8B%D1%80%D1%83%D0%BB%D0%B0%D1%80%20%D0%B5%D0%BD%D0%B3%D1%96%D0%B7%D1%83%20%D1%82%D1%83%D1%80%D0%B0%D0%BB%D1%8B%20%D2%9B%D0%B0%D0%B7%D0%B0%D2%9B%D1%81%D1%82%D0%B0%D0%BD%20%D1%80%D0%B5%D1%81%D0%BF%D1%83%D0%B1%D0%BB%D0%B8%D0%BA%D0%B0%D1%81%D1%8B%20%D2%AF%D0%BA%D1%96%D0%BC%D0%B5%D1%82%D1%96%D0%BD%D1%96%D2%A3%202011%20%D0%B6%D1%8B%D0%BB%D2%93%D1%8B%201%20%D2%9B%D0%B0%D2%A3%D1%82%D0%B0%D1%80%D0%B4%D0%B0%D0%BD%20%D0%B1%D0%B0%D1%81%D1%82%D0%B0%D0%BF%20%D2%9B%D0%BE%D0%BB%D0%B4%D0%B0%D0%BD%D1%8B%D1%81%D2%9B%D0%B0%20%D0%B5%D0%BD%D0%B3%D1%96%D0%B7%D1%96%D0%BB%D0%B5%D0%B4%D1%96%202012%2007%2030%2015%2052%2054%2056%2058')"
   ]
  },
  {
   "cell_type": "code",
   "execution_count": 44,
   "metadata": {},
   "outputs": [],
   "source": [
    "soup = BeautifulSoup(response.text, 'lxml').prettify(formatter=None)"
   ]
  },
  {
   "cell_type": "code",
   "execution_count": 45,
   "metadata": {},
   "outputs": [
    {
     "ename": "NameError",
     "evalue": "name 'translation' is not defined",
     "output_type": "error",
     "traceback": [
      "\u001b[1;31m---------------------------------------------------------------------------\u001b[0m",
      "\u001b[1;31mNameError\u001b[0m                                 Traceback (most recent call last)",
      "\u001b[1;32m<ipython-input-45-33f065d24d95>\u001b[0m in \u001b[0;36m<module>\u001b[1;34m\u001b[0m\n\u001b[1;32m----> 1\u001b[1;33m \u001b[0mtranslation\u001b[0m\u001b[1;33m-\u001b[0m\u001b[0mcontainer\u001b[0m\u001b[1;33m\u001b[0m\u001b[1;33m\u001b[0m\u001b[0m\n\u001b[0m",
      "\u001b[1;31mNameError\u001b[0m: name 'translation' is not defined"
     ]
    }
   ],
   "source": [
    "translation-container"
   ]
  },
  {
   "cell_type": "code",
   "execution_count": 46,
   "metadata": {
    "scrolled": false
   },
   "outputs": [
    {
     "name": "stdout",
     "output_type": "stream",
     "text": [
      "<!DOCTYPE html>\n",
      "<html prefix=\"og: http://ogp.me/ns#\">\n",
      " <head>\n",
      "  <meta content=\"IE=edge\" http-equiv=\"X-UA-Compatible\"/>\n",
      "  <meta charset=\"utf-8\"/>\n",
      "  <meta content=\"width=device-width,initial-scale=1\" name=\"viewport\"/>\n",
      "  <title data-react-helmet=\"true\">\n",
      "   Oops!\n",
      "  </title>\n",
      "  <meta content=\"Yandex\" data-react-helmet=\"true\" property=\"og:title\"/>\n",
      "  <meta content=\"Finds everything\" data-react-helmet=\"true\" property=\"og:description\"/>\n",
      "  <meta content=\"https://yastatic.net/s3/home/logos/share/icon_comtr_200.png\" data-react-helmet=\"true\" property=\"og:image\"/>\n",
      "  <link href=\"/captcha_smart.min.css?k=1615466709181\" rel=\"stylesheet\"/>\n",
      " </head>\n",
      " <body>\n",
      "  <div id=\"root\">\n",
      "   <div class=\"Theme Theme_color_yandex-default Theme_root_default\">\n",
      "    <div class=\"Container\">\n",
      "     <div class=\"Spacer\" style=\"padding-bottom:40px\">\n",
      "      <a class=\"Link Link_view_default LogoLink\" href=\"https://www.yandex.com\" title=\"Yandex\">\n",
      "       <svg height=\"36\" viewbox=\"0 0 87 35\" width=\"86\">\n",
      "        <path d=\"M23.8704 27.005C23.3124 27.873 22.2344 28.583 21.1564 28.583C19.5604 28.583 18.8014 27.083 18.8014 24.795C18.8014 22.231 19.6394 20.535 23.5114 20.535H23.8714V27.005H23.8704ZM26.9444 26.413V17.063C26.9444 12.249 24.9884 10.75 21.4364 10.75C19.4004 10.75 17.5644 11.578 16.6464 12.328L17.2444 15.05C18.2824 14.143 19.6394 13.314 21.2364 13.314C22.9934 13.314 23.8714 14.419 23.8714 17.023V18.206H23.4314C17.8034 18.206 15.6084 20.889 15.6084 25.15C15.6084 29.056 17.5644 31.187 20.4384 31.187C22.1944 31.187 23.3124 30.437 24.1904 29.332H24.3904C24.4304 29.845 24.5504 30.476 24.6704 30.91H27.3044C27.1444 29.964 26.9444 28.307 26.9444 26.413ZM33.9304 15.484C34.6494 14.498 35.7664 13.511 37.0834 13.511C38.2814 13.511 38.9604 14.024 38.9604 15.524V30.91H42.1134V15.247C42.1134 12.21 40.7164 10.75 38.0814 10.75C36.2054 10.75 34.6884 11.973 34.1304 12.722H33.9304V10.986H30.8164V30.91H33.9304V15.484ZM54.9274 29.332H55.1274L55.3664 30.91H57.6814V3.017H54.5674V11.5C53.9694 11.066 52.9714 10.75 52.0134 10.75C47.9814 10.75 45.1874 14.341 45.1874 21.719C45.1874 27.874 47.3424 31.188 51.2944 31.188C52.9314 31.188 54.0484 30.438 54.9274 29.333V29.332ZM54.5674 27.044C54.0484 27.834 53.2104 28.583 51.6534 28.583C49.3784 28.583 48.5004 25.743 48.5004 21.087C48.5004 17.023 49.6974 13.275 52.2124 13.275C53.2504 13.275 53.9294 13.59 54.5674 14.222V27.044ZM72.3314 29.569L71.6124 27.202C70.8144 27.754 69.5374 28.543 67.7804 28.543C65.3054 28.543 64.0284 26.176 64.0284 21.678H72.4114V19.982C72.4114 13.235 70.2154 10.75 66.8624 10.75C62.5914 10.75 60.7954 15.405 60.7954 21.797C60.7954 27.912 63.3494 31.187 67.5014 31.187C69.4974 31.187 71.0534 30.555 72.3314 29.569ZM66.8624 13.275C68.6584 13.275 69.2174 15.76 69.2174 19.153H64.0674C64.2674 15.603 64.9464 13.275 66.8624 13.275ZM82.9094 11.025L80.1554 18.245L77.5604 11.025H74.3274L78.1194 20.613L73.9274 30.91H77.0014L80.0354 22.704L83.1484 30.91H86.3824L82.1904 20.337L85.9434 11.026H82.9094V11.025Z\" fill=\"black\">\n",
      "        </path>\n",
      "        <path d=\"M10.219 30.91V20.93L17.689 -0.0100098H14.393L8.70196 16.669L3.81196 3.00599H0.209961L7.06496 20.81V30.91H10.219Z\" fill=\"#FF0000\">\n",
      "        </path>\n",
      "       </svg>\n",
      "      </a>\n",
      "     </div>\n",
      "     <div class=\"Spacer\" style=\"padding-bottom:16px\">\n",
      "      <span class=\"Text Text_weight_medium Text_typography_headline-s\">\n",
      "       Please confirm that you and not a robot are sending requests\n",
      "      </span>\n",
      "     </div>\n",
      "     <span class=\"Text Text_weight_regular Text_typography_body-long-m\">\n",
      "      We're sorry, but it looks like requests sent from your device are automated.Â\n",
      "      <a class=\"Link Link_view_default\" href=\"https://yandex.com/support/smart-captcha\">\n",
      "       Why might this happen?\n",
      "      </a>\n",
      "     </span>\n",
      "     <div class=\"Spacer Spacer_auto-gap_bottom\" style=\"padding-top:40px;padding-bottom:40px\">\n",
      "      <div class=\"CheckboxCaptcha\" data-testid=\"checkbox-captcha\">\n",
      "       <form action=\"/checkcaptcha?key=38f78118-5ddd6557-b67076a-f8853338_2%2F1618577868%2F5dca04055ae259d7fe3a01b8105bae70_85d57e493279daad9ee3dcd814e48b2e&retpath=https%3A%2F%2Ftranslate.yandex.com%2F%3Flang%3Dkk-ru%26text%3D%25D2%259A%25D0%25B0%25D0%25B7%25D0%25B0%25D2%259B%25D1%2581%25D1%2582%25D0%25B0%25D0%25BD%2520%25D1%2580%25D0%25B5%25D1%2581%25D0%25BF%25D1%2583%25D0%25B1%25D0%25BB%25D0%25B8%25D0%25BA%25D0%25B0%25D1%2581%25D1%258B%25D0%25BD%25D1%258B%25D2%25A3%2520%25D0%25BC%25D0%25B5%25D0%25BC%25D0%25BB%25D0%25B5%25D0%25BA%25D0%25B5%25D1%2582%25D1%2582%25D1%2596%25D0%25BA%2520%25D2%259B%25D1%258B%25D0%25B7%25D0%25BC%25D0%25B5%25D1%2582%2520%25D0%25BA%25D3%25A9%25D1%2580%25D1%2581%25D0%25B5%25D1%2582%25D1%2583%2520%25D0%25B6%25D3%2599%25D0%25BD%25D0%25B5%2520%25D0%25B6%25D3%25A9%25D0%25BD%25D0%25B4%25D0%25B5%25D1%2583%2520%25D0%25B1%25D0%25BE%25D0%25B9%25D1%258B%25D0%25BD%25D1%2588%25D0%25B0%2520%25D2%259B%25D1%258B%25D0%25B7%25D0%25BC%25D0%25B5%25D1%2582%25D1%2582%25D0%25B5%25D1%2580%2520%25D0%25BA%25D3%25A9%25D1%2580%25D1%2581%25D0%25B5%25D1%2582%25D1%2583%2520%25D0%25BC%25D3%2599%25D1%2581%25D0%25B5%25D0%25BB%25D0%25B5%25D0%25BB%25D0%25B5%25D1%2580%25D1%2596%2520%25D0%25B1%25D0%25BE%25D0%25B9%25D1%258B%25D0%25BD%25D1%2588%25D0%25B0%2520%25D3%25A9%25D0%25B7%25D0%25B3%25D0%25B5%25D1%2580%25D1%2596%25D1%2581%25D1%2582%25D0%25B5%25D1%2580%2520%25D0%25BC%25D0%25B5%25D0%25BD%2520%25D1%2582%25D0%25BE%25D0%25BB%25D1%258B%25D2%259B%25D1%2582%25D1%258B%25D1%2580%25D1%2583%25D0%25BB%25D0%25B0%25D1%2580%2520%25D0%25B5%25D0%25BD%25D0%25B3%25D1%2596%25D0%25B7%25D1%2583%2520%25D1%2582%25D1%2583%25D1%2580%25D0%25B0%25D0%25BB%25D1%258B%2520%25D2%259B%25D0%25B0%25D0%25B7%25D0%25B0%25D2%259B%25D1%2581%25D1%2582%25D0%25B0%25D0%25BD%2520%25D1%2580%25D0%25B5%25D1%2581%25D0%25BF%25D1%2583%25D0%25B1%25D0%25BB%25D0%25B8%25D0%25BA%25D0%25B0%25D1%2581%25D1%258B%2520%25D2%25AF%25D0%25BA%25D1%2596%25D0%25BC%25D0%25B5%25D1%2582%25D1%2596%25D0%25BD%25D1%2596%25D2%25A3%25202011%2520%25D0%25B6%25D1%258B%25D0%25BB%25D2%2593%25D1%258B%25201%2520%25D2%259B%25D0%25B0%25D2%25A3%25D1%2582%25D0%25B0%25D1%2580%25D0%25B4%25D0%25B0%25D0%25BD%2520%25D0%25B1%25D0%25B0%25D1%2581%25D1%2582%25D0%25B0%25D0%25BF%2520%25D2%259B%25D0%25BE%25D0%25BB%25D0%25B4%25D0%25B0%25D0%25BD%25D1%258B%25D1%2581%25D2%259B%25D0%25B0%2520%25D0%25B5%25D0%25BD%25D0%25B3%25D1%2596%25D0%25B7%25D1%2596%25D0%25BB%25D0%25B5%25D0%25B4%25D1%2596%25202012%252007%252030%252015%252052%252054%252056%252058_e43e91c9cbb656f9391616b730e34a18\" class=\"CheckboxCaptcha-Form\" method=\"POST\">\n",
      "        <div class=\"CheckboxCaptcha-Inner\">\n",
      "         <div class=\"CheckboxCaptcha-Anchor\">\n",
      "          <input class=\"CheckboxCaptcha-Button\" type=\"submit\"/>\n",
      "          <div aria-checked=\"false\" class=\"CheckboxCaptcha-Checkbox\">\n",
      "           <svg class=\"SvgIcon\" fill=\"none\" height=\"24\" viewbox=\"0 0 24 25\" width=\"24\">\n",
      "            <path d=\"M4 12.5L9.5 18.5L20 6.5\" stroke=\"#000\" stroke-linecap=\"round\" stroke-linejoin=\"round\" stroke-width=\"3\">\n",
      "            </path>\n",
      "           </svg>\n",
      "          </div>\n",
      "         </div>\n",
      "         <div class=\"CheckboxCaptcha-Label\">\n",
      "          <span class=\"Text Text_weight_regular Text_typography_control-xxl CheckboxCaptcha-LabelText\">\n",
      "           I'm not a robot\n",
      "          </span>\n",
      "          <span class=\"Text Text_color_control-secondary Text_weight_regular Text_typography_control-l\">\n",
      "           Press to continue\n",
      "          </span>\n",
      "         </div>\n",
      "        </div>\n",
      "        <input hidden=\"\" name=\"key\" value=\"38f78118-5ddd6557-b67076a-f8853338_2/1618577868/5dca04055ae259d7fe3a01b8105bae70_85d57e493279daad9ee3dcd814e48b2e\"/>\n",
      "        <input hidden=\"\" name=\"rdata\"/>\n",
      "        <input hidden=\"\" name=\"d\" value=\"k8FgYIIlMb9iGRxjY8Fo0EEcG8aBGemIgiPgklEldL8=\"/>\n",
      "        <input hidden=\"\" name=\"k\" value=\"1_1618577868_6540952117527147437_d17f3dd2fe691e4b1074458347c67c58\"/>\n",
      "       </form>\n",
      "      </div>\n",
      "     </div>\n",
      "     <span class=\"Text Text_color_ghost Text_weight_regular Text_typography_control-xs\">\n",
      "      If you have any problems, please use theÂ\n",
      "      <a class=\"Link Link_view_default\" href=\"https://yandex.com/support/smart-captcha/#help\">\n",
      "       feedback form\n",
      "      </a>\n",
      "     </span>\n",
      "    </div>\n",
      "   </div>\n",
      "  </div>\n",
      "  <script>\n",
      "   window.__SSR_DATA__={url:\"/en/checkbox\",reqId:\"1618577868697397-9098331863550453111\",invalid:\"no\",formAction:\"/checkcaptcha?key=38f78118-5ddd6557-b67076a-f8853338_2%2F1618577868%2F5dca04055ae259d7fe3a01b8105bae70_85d57e493279daad9ee3dcd814e48b2e&retpath=https%3A%2F%2Ftranslate.yandex.com%2F%3Flang%3Dkk-ru%26text%3D%25D2%259A%25D0%25B0%25D0%25B7%25D0%25B0%25D2%259B%25D1%2581%25D1%2582%25D0%25B0%25D0%25BD%2520%25D1%2580%25D0%25B5%25D1%2581%25D0%25BF%25D1%2583%25D0%25B1%25D0%25BB%25D0%25B8%25D0%25BA%25D0%25B0%25D1%2581%25D1%258B%25D0%25BD%25D1%258B%25D2%25A3%2520%25D0%25BC%25D0%25B5%25D0%25BC%25D0%25BB%25D0%25B5%25D0%25BA%25D0%25B5%25D1%2582%25D1%2582%25D1%2596%25D0%25BA%2520%25D2%259B%25D1%258B%25D0%25B7%25D0%25BC%25D0%25B5%25D1%2582%2520%25D0%25BA%25D3%25A9%25D1%2580%25D1%2581%25D0%25B5%25D1%2582%25D1%2583%2520%25D0%25B6%25D3%2599%25D0%25BD%25D0%25B5%2520%25D0%25B6%25D3%25A9%25D0%25BD%25D0%25B4%25D0%25B5%25D1%2583%2520%25D0%25B1%25D0%25BE%25D0%25B9%25D1%258B%25D0%25BD%25D1%2588%25D0%25B0%2520%25D2%259B%25D1%258B%25D0%25B7%25D0%25BC%25D0%25B5%25D1%2582%25D1%2582%25D0%25B5%25D1%2580%2520%25D0%25BA%25D3%25A9%25D1%2580%25D1%2581%25D0%25B5%25D1%2582%25D1%2583%2520%25D0%25BC%25D3%2599%25D1%2581%25D0%25B5%25D0%25BB%25D0%25B5%25D0%25BB%25D0%25B5%25D1%2580%25D1%2596%2520%25D0%25B1%25D0%25BE%25D0%25B9%25D1%258B%25D0%25BD%25D1%2588%25D0%25B0%2520%25D3%25A9%25D0%25B7%25D0%25B3%25D0%25B5%25D1%2580%25D1%2596%25D1%2581%25D1%2582%25D0%25B5%25D1%2580%2520%25D0%25BC%25D0%25B5%25D0%25BD%2520%25D1%2582%25D0%25BE%25D0%25BB%25D1%258B%25D2%259B%25D1%2582%25D1%258B%25D1%2580%25D1%2583%25D0%25BB%25D0%25B0%25D1%2580%2520%25D0%25B5%25D0%25BD%25D0%25B3%25D1%2596%25D0%25B7%25D1%2583%2520%25D1%2582%25D1%2583%25D1%2580%25D0%25B0%25D0%25BB%25D1%258B%2520%25D2%259B%25D0%25B0%25D0%25B7%25D0%25B0%25D2%259B%25D1%2581%25D1%2582%25D0%25B0%25D0%25BD%2520%25D1%2580%25D0%25B5%25D1%2581%25D0%25BF%25D1%2583%25D0%25B1%25D0%25BB%25D0%25B8%25D0%25BA%25D0%25B0%25D1%2581%25D1%258B%2520%25D2%25AF%25D0%25BA%25D1%2596%25D0%25BC%25D0%25B5%25D1%2582%25D1%2596%25D0%25BD%25D1%2596%25D2%25A3%25202011%2520%25D0%25B6%25D1%258B%25D0%25BB%25D2%2593%25D1%258B%25201%2520%25D2%259B%25D0%25B0%25D2%25A3%25D1%2582%25D0%25B0%25D1%2580%25D0%25B4%25D0%25B0%25D0%25BD%2520%25D0%25B1%25D0%25B0%25D1%2581%25D1%2582%25D0%25B0%25D0%25BF%2520%25D2%259B%25D0%25BE%25D0%25BB%25D0%25B4%25D0%25B0%25D0%25BD%25D1%258B%25D1%2581%25D2%259B%25D0%25B0%2520%25D0%25B5%25D0%25BD%25D0%25B3%25D1%2596%25D0%25B7%25D1%2596%25D0%25BB%25D0%25B5%25D0%25B4%25D1%2596%25202012%252007%252030%252015%252052%252054%252056%252058_e43e91c9cbb656f9391616b730e34a18\",captchaKey:\"38f78118-5ddd6557-b67076a-f8853338_2/1618577868/5dca04055ae259d7fe3a01b8105bae70_85d57e493279daad9ee3dcd814e48b2e\",imageSrc:\"\",voiceSrc:\"\",introSrc:\"\",aesKey:\"k8FgYIIlMb9iGRxjY8Fo0EEcG8aBGemIgiPgklEldL8=\",aesSign:\"1_1618577868_6540952117527147437_d17f3dd2fe691e4b1074458347c67c58\"}\n",
      "  </script>\n",
      "  <script crossorigin=\"\" src=\"/captcha_smart_error.min.js?k=1615466709181\">\n",
      "  </script>\n",
      "  <script crossorigin=\"\" src=\"https://yastatic.net/react/16.8.4/react-with-dom-and-polyfills.min.js\">\n",
      "  </script>\n",
      "  <script crossorigin=\"\" src=\"/captcha_smart.min.js?k=1615466709181\">\n",
      "  </script>\n",
      "  <script>\n",
      "   !function(e,t,n,a,c){e.ym=e.ym||function(){(e.ym.a=e.ym.a||[]).push(arguments)},e.ym.l=+new Date,a=t.createElement(n),c=t.getElementsByTagName(n)[0],a.async=1,a.src=\"https://mc.yandex.ru/metrika/tag.js\",c.parentNode.insertBefore(a,c)}(window,document,\"script\"),ym(10630330,\"init\",{clickmap:!0,trackLinks:!0,accurateTrackBounce:!0,webvisor:!0,ut:\"noindex\",params:{service:\"translate\",req_id:\"1618577868697397-9098331863550453111\",ident_type:\"1\"}})\n",
      "  </script>\n",
      "  <noscript>\n",
      "   <div>\n",
      "    <img alt=\"\" src=\"https://mc.yandex.ru/watch/10630330?ut=noindex\" style=\"position:absolute;left:-9999px\"/>\n",
      "   </div>\n",
      "  </noscript>\n",
      " </body>\n",
      "</html>\n"
     ]
    }
   ],
   "source": [
    "print(soup)"
   ]
  },
  {
   "cell_type": "code",
   "execution_count": 49,
   "metadata": {},
   "outputs": [],
   "source": [
    "txt = u\"%3D%25D2%259A%25D0%25B0%25D0%25B7%25D0%25B0%25D2%259B%25D1%2581%25D1%2582%25D0%25B0%25D0%25BD%2520%25D1%2580%25D0%25B5%25D1%2581%25D0%25BF%25D1%2583%25D0%25B1%25D0%25BB%25D0%25B8%25D0%25BA%25D0%25B0%25D1%2581%25D1%258B%25D0%25BD%25D1%258B%25D2%25A3%2520%25D0%25BC%25D0%25B5%25D0%25BC%25D0%25BB%25D0%25B5%25D0%25BA%25D0%25B5%25D1%2582%25D1%2582%25D1%2596%25D0%25BA%2520%25D2%259B%25D1%258B%25D0%25B7%25D0%25BC%25D0%25B5%25D1%2582%2520%25D0%25BA%25D3%25A9%25D1%2580%25D1%2581%25D0%25B5%25D1%2582%25D1%2583%2520%25D0%25B6%25D3%2599%25D0%25BD%25D0%25B5%2520%25D0%25B6%25D3%25A9%25D0%25BD%25D0%25B4%25D0%25B5%25D1%2583%2520%25D0%25B1%25D0%25BE%25D0%25B9%25D1%258B%25D0%25BD%25D1%2588%25D0%25B0%2520%25D2%259B%25D1%258B%25D0%25B7%25D0%25BC%25D0%25B5%25D1%2582%25D1%2582%25D0%25B5%25D1%2580%2520%25D0%25BA%25D3%25A9%25D1%2580%25D1%2581%25D0%25B5%25D1%2582%25D1%2583%2520%25D0%25BC%25D3%2599%25D1%2581%25D0%25B5%25D0%25BB%25D0%25B5%25D0%25BB%25D0%25B5%25D1%2580%25D1%2596%2520%25D0%25B1%25D0%25BE%25D0%25B9%25D1%258B%25D0%25BD%25D1%2588%25D0%25B0%2520%25D3%25A9%25D0%25B7%25D0%25B3%25D0%25B5%25D1%2580%25D1%2596%25D1%2581%25D1%2582%25D0%25B5%25D1%2580%2520%25D0%25BC%25D0%25B5%25D0%25BD%2520%25D1%2582%25D0%25BE%25D0%25BB%25D1%258B%25D2%259B%25D1%2582%25D1%258B%25D1%2580%25D1%2583%25D0%25BB%25D0%25B0%25D1%2580%2520%25D0%25B5%25D0%25BD%25D0%25B3%25D1%2596%25D0%25B7%25D1%2583%2520%25D1%2582%25D1%2583%25D1%2580%25D0%25B0%25D0%25BB%25D1%258B%2520%25D2%259B%25D0%25B0%25D0%25B7%25D0%25B0%25D2%259B%25D1%2581%25D1%2582%25D0%25B0%25D0%25BD%2520%25D1%2580%25D0%25B5%25D1%2581%25D0%25BF%25D1%2583%25D0%25B1%25D0%25BB%25D0%25B8%25D0%25BA%25D0%25B0%25D1%2581%25D1%258B%2520%25D2%25AF%25D0%25BA%25D1%2596%25D0%25BC%25D0%25B5%25D1%2582%25D1%2596%25D0%25BD%25D1%2596%25D2%25A3%25202011%2520%25D0%25B6%25D1%258B%25D0%25BB%25D2%2593%25D1%258B%25201%2520%25D2%259B%25D0%25B0%25D2%25A3%25D1%2582%25D0%25B0%25D1%2580%25D0%25B4%25D0%25B0%25D0%25BD%2520%25D0%25B1%25D0%25B0%25D1%2581%25D1%2582%25D0%25B0%25D0%25BF%2520%25D2%259B%25D0%25BE%25D0%25BB%25D0%25B4%25D0%25B0%25D0%25BD%25D1%258B%25D1%2581%25D2%259B%25D0%25B0%2520%25D0%25B5%25D0%25BD%25D0%25B3%25D1%2596%25D0%25B7%25D1%2596%25D0%25BB%25D0%25B5%25D0%25B4%25D1%2596%25202012%252007%252030%252015%252052%252054%252056%252058_e43e91c9cbb656f9391616b730e34a18\""
   ]
  },
  {
   "cell_type": "code",
   "execution_count": 54,
   "metadata": {},
   "outputs": [
    {
     "data": {
      "text/plain": [
       "b'%3D%25D2%259A%25D0%25B0%25D0%25B7%25D0%25B0%25D2%259B%25D1%2581%25D1%2582%25D0%25B0%25D0%25BD%2520%25D1%2580%25D0%25B5%25D1%2581%25D0%25BF%25D1%2583%25D0%25B1%25D0%25BB%25D0%25B8%25D0%25BA%25D0%25B0%25D1%2581%25D1%258B%25D0%25BD%25D1%258B%25D2%25A3%2520%25D0%25BC%25D0%25B5%25D0%25BC%25D0%25BB%25D0%25B5%25D0%25BA%25D0%25B5%25D1%2582%25D1%2582%25D1%2596%25D0%25BA%2520%25D2%259B%25D1%258B%25D0%25B7%25D0%25BC%25D0%25B5%25D1%2582%2520%25D0%25BA%25D3%25A9%25D1%2580%25D1%2581%25D0%25B5%25D1%2582%25D1%2583%2520%25D0%25B6%25D3%2599%25D0%25BD%25D0%25B5%2520%25D0%25B6%25D3%25A9%25D0%25BD%25D0%25B4%25D0%25B5%25D1%2583%2520%25D0%25B1%25D0%25BE%25D0%25B9%25D1%258B%25D0%25BD%25D1%2588%25D0%25B0%2520%25D2%259B%25D1%258B%25D0%25B7%25D0%25BC%25D0%25B5%25D1%2582%25D1%2582%25D0%25B5%25D1%2580%2520%25D0%25BA%25D3%25A9%25D1%2580%25D1%2581%25D0%25B5%25D1%2582%25D1%2583%2520%25D0%25BC%25D3%2599%25D1%2581%25D0%25B5%25D0%25BB%25D0%25B5%25D0%25BB%25D0%25B5%25D1%2580%25D1%2596%2520%25D0%25B1%25D0%25BE%25D0%25B9%25D1%258B%25D0%25BD%25D1%2588%25D0%25B0%2520%25D3%25A9%25D0%25B7%25D0%25B3%25D0%25B5%25D1%2580%25D1%2596%25D1%2581%25D1%2582%25D0%25B5%25D1%2580%2520%25D0%25BC%25D0%25B5%25D0%25BD%2520%25D1%2582%25D0%25BE%25D0%25BB%25D1%258B%25D2%259B%25D1%2582%25D1%258B%25D1%2580%25D1%2583%25D0%25BB%25D0%25B0%25D1%2580%2520%25D0%25B5%25D0%25BD%25D0%25B3%25D1%2596%25D0%25B7%25D1%2583%2520%25D1%2582%25D1%2583%25D1%2580%25D0%25B0%25D0%25BB%25D1%258B%2520%25D2%259B%25D0%25B0%25D0%25B7%25D0%25B0%25D2%259B%25D1%2581%25D1%2582%25D0%25B0%25D0%25BD%2520%25D1%2580%25D0%25B5%25D1%2581%25D0%25BF%25D1%2583%25D0%25B1%25D0%25BB%25D0%25B8%25D0%25BA%25D0%25B0%25D1%2581%25D1%258B%2520%25D2%25AF%25D0%25BA%25D1%2596%25D0%25BC%25D0%25B5%25D1%2582%25D1%2596%25D0%25BD%25D1%2596%25D2%25A3%25202011%2520%25D0%25B6%25D1%258B%25D0%25BB%25D2%2593%25D1%258B%25201%2520%25D2%259B%25D0%25B0%25D2%25A3%25D1%2582%25D0%25B0%25D1%2580%25D0%25B4%25D0%25B0%25D0%25BD%2520%25D0%25B1%25D0%25B0%25D1%2581%25D1%2582%25D0%25B0%25D0%25BF%2520%25D2%259B%25D0%25BE%25D0%25BB%25D0%25B4%25D0%25B0%25D0%25BD%25D1%258B%25D1%2581%25D2%259B%25D0%25B0%2520%25D0%25B5%25D0%25BD%25D0%25B3%25D1%2596%25D0%25B7%25D1%2596%25D0%25BB%25D0%25B5%25D0%25B4%25D1%2596%25202012%252007%252030%252015%252052%252054%252056%252058_e43e91c9cbb656f9391616b730e34a18'"
      ]
     },
     "execution_count": 54,
     "metadata": {},
     "output_type": "execute_result"
    }
   ],
   "source": [
    "txt.encode('utf8')"
   ]
  },
  {
   "cell_type": "code",
   "execution_count": 17,
   "metadata": {},
   "outputs": [],
   "source": [
    "soup.find(\"div\", id=\"translation-container\")"
   ]
  }
 ],
 "metadata": {
  "kernelspec": {
   "display_name": "Python 3",
   "language": "python",
   "name": "python3"
  },
  "language_info": {
   "codemirror_mode": {
    "name": "ipython",
    "version": 3
   },
   "file_extension": ".py",
   "mimetype": "text/x-python",
   "name": "python",
   "nbconvert_exporter": "python",
   "pygments_lexer": "ipython3",
   "version": "3.7.7"
  },
  "toc": {
   "base_numbering": 1,
   "nav_menu": {},
   "number_sections": true,
   "sideBar": true,
   "skip_h1_title": false,
   "title_cell": "Table of Contents",
   "title_sidebar": "Contents",
   "toc_cell": false,
   "toc_position": {},
   "toc_section_display": true,
   "toc_window_display": false
  }
 },
 "nbformat": 4,
 "nbformat_minor": 4
}
